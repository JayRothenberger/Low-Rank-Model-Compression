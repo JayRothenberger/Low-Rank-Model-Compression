{
 "cells": [
  {
   "cell_type": "markdown",
   "metadata": {},
   "source": [
    "# Experimenting with low-rank model compression\n",
    "## this time with vision transformers "
   ]
  },
  {
   "cell_type": "code",
   "execution_count": 1,
   "metadata": {},
   "outputs": [
    {
     "name": "stderr",
     "output_type": "stream",
     "text": [
      "/home/anaconda3/envs/torch/lib/python3.12/site-packages/torch/hub.py:365: UserWarning: TORCH_HUB is deprecated, please use env TORCH_HOME instead\n",
      "  warnings.warn('TORCH_HUB is deprecated, please use env TORCH_HOME instead')\n",
      "Using cache found in ./hub/facebookresearch_dinov2_main\n",
      "/home/jroth/Low-Rank-Model-Compression/hub/facebookresearch_dinov2_main/dinov2/layers/swiglu_ffn.py:51: UserWarning: xFormers is not available (SwiGLU)\n",
      "  warnings.warn(\"xFormers is not available (SwiGLU)\")\n",
      "/home/jroth/Low-Rank-Model-Compression/hub/facebookresearch_dinov2_main/dinov2/layers/attention.py:33: UserWarning: xFormers is not available (Attention)\n",
      "  warnings.warn(\"xFormers is not available (Attention)\")\n",
      "/home/jroth/Low-Rank-Model-Compression/hub/facebookresearch_dinov2_main/dinov2/layers/block.py:40: UserWarning: xFormers is not available (Block)\n",
      "  warnings.warn(\"xFormers is not available (Block)\")\n"
     ]
    }
   ],
   "source": [
    "import os\n",
    "import torch\n",
    "import torchvision\n",
    "from torchvision.transforms import v2\n",
    "from torchvision import transforms\n",
    "import time\n",
    "from copy import deepcopy as copy\n",
    "\n",
    "from sklearn.cluster import AgglomerativeClustering\n",
    "import numpy as np\n",
    "\n",
    "from tqdm import tqdm\n",
    "import time \n",
    "import gc\n",
    "\n",
    "from copy import deepcopy as copy\n",
    "import time\n",
    "\n",
    "\n",
    "def dino_model():\n",
    "    os.environ['TORCH_HOME'] = './'\n",
    "    os.environ['TORCH_HUB'] = './'\n",
    "    # DINOv2 vit-s (14) with registers\n",
    "    # model = torch.hub.load('facebookresearch/dinov2', 'dinov2_vitb14_reg')\n",
    "    model = torch.hub.load('facebookresearch/dinov2', 'dinov2_vits14_reg')\n",
    "    # state = model.state_dict()\n",
    "    # mymodel = vit_small(14, 4)\n",
    "    # mymodel.load_state_dict(state)\n",
    "    model.eval()\n",
    "\n",
    "    return model.to('cpu')\n",
    "\n",
    "def dino_transforms():\n",
    "    return v2.Compose(\n",
    "                    [\n",
    "                        torchvision.transforms.ToTensor(),\n",
    "                        transforms.Resize(size=(256, 256), antialias=True),\n",
    "                        transforms.CenterCrop((224, 224)),\n",
    "                        transforms.Normalize(\n",
    "                                            mean=[0.485, 0.456, 0.406],\n",
    "                                            std=[0.229, 0.224, 0.225]\n",
    "                                            ),\n",
    "                    ]\n",
    "                    )\n",
    "\n",
    "DINOv2 = dino_model()\n",
    "DINOv2_transform = dino_transforms()\n",
    "\n",
    "def compute_centroids(weights, assignment):\n",
    "    # we are going to mean the neurons into the first index in the weights occuring in the assingment\n",
    "    first_indices = []\n",
    "    for i in range(int(assignment.max()) + 1):\n",
    "        indices = (assignment == i).nonzero()\n",
    "\n",
    "        first_index = indices[0]\n",
    "        \n",
    "        try:\n",
    "            first_indices.append(first_index.item())\n",
    "            weights[first_index, :] = weights[indices].mean(0)\n",
    "        except:\n",
    "            first_indices.append(first_index[0].item())\n",
    "            weights[first_index[0], :] = weights[indices[0]].mean(0)\n",
    "    first_indices.sort()\n",
    "\n",
    "    return weights[first_indices]\n",
    "\n",
    "\n",
    "def reduce_neurons(weight, bias=None, clusters=None, threshold=0.1, D=None):\n",
    "    # function that does the neuron clustering - returns new weights and biases of reduced neurons layer\n",
    "    if bias is None:\n",
    "        bias = torch.zeros((weight.shape[0]))\n",
    "\n",
    "    \n",
    "    weight = torch.concat((weight, bias.unsqueeze(-1)), 1)\n",
    "\n",
    "    normed = torch.nn.functional.normalize(weight)\n",
    "\n",
    "    D = D if D is not None else (1.0 - (normed @ normed.T)).relu()\n",
    "\n",
    "    C = AgglomerativeClustering(clusters, metric='precomputed', linkage='complete', compute_full_tree=True, distance_threshold=threshold)\n",
    "    assignment = C.fit_predict(D)\n",
    "\n",
    "    centroids = compute_centroids(weight, assignment)\n",
    "\n",
    "    bias, centroids = centroids[:, -1].squeeze(), centroids[:, :-1]\n",
    "\n",
    "    return centroids, bias, assignment\n",
    "\n",
    "\n",
    "def reduce_columns(weight, assignment):\n",
    "    # function that compensates for neurons that were clustered in the previous layer by aggregating the input features\n",
    "    # we are going to sum the columns into the first index in the weights occuring in the assignment\n",
    "    first_indices = []\n",
    "    for i in range(int(assignment.max())+1):\n",
    "        indices = (assignment == i).nonzero()\n",
    "\n",
    "        first_index = indices[0]\n",
    "\n",
    "        try:\n",
    "            first_indices.append(first_index.item())\n",
    "            weight[:, first_index] = weight[:, indices].sum(1)\n",
    "        except:\n",
    "            first_indices.append(first_index[0].item())\n",
    "            weight[:, first_index[0]] = weight[:, indices[0]].sum(1)\n",
    "\n",
    "    first_indices.sort()\n",
    "\n",
    "    return weight[:, first_indices]\n",
    "\n",
    "\n",
    "def train(model, optimizer, loader):\n",
    "    model.train()\n",
    "    loss = torch.nn.CrossEntropyLoss()\n",
    "\n",
    "    for i, (X, y) in tqdm(enumerate(loader)):\n",
    "        out = model(X.to(0))\n",
    "        optimizer.zero_grad()\n",
    "        l = loss(out, y.to(0))\n",
    "        l.backward()\n",
    "        optimizer.step()\n",
    "        \n",
    "\n",
    "\n",
    "def accuracy(output, target, topk=(1,)):\n",
    "    output = output.to(torch.device('cpu'))\n",
    "    target = target.to(torch.device('cpu'))\n",
    "    maxk = max(topk)\n",
    "    batch_size = target.shape[0]\n",
    "\n",
    "    _, idx = output.sort(dim=1, descending=True)\n",
    "    pred = idx.narrow(1, 0, maxk).t()\n",
    "    correct = pred.eq(target.reshape(1, -1).expand_as(pred))\n",
    "\n",
    "    res = []\n",
    "    for k in topk:\n",
    "        correct_k = correct[:k].reshape(-1).float().sum(dim=0, keepdim=True)\n",
    "        res.append(correct_k.mul_(100.0 / batch_size))\n",
    "    return res\n",
    "\n",
    "\n",
    "def epoch_accuracy(loader_s, student):\n",
    "    student.eval()\n",
    "\n",
    "    out_epoch_s = [accuracy(student(L.to(0)), y)[0].detach().cpu().item() for L, y in loader_s]\n",
    "\n",
    "    student.train()\n",
    "\n",
    "    return sum(out_epoch_s) / len(out_epoch_s)\n",
    "\n",
    "def test(network, test_loader, dtype=torch.float32, silent=False):\n",
    "    network.eval().to(0)\n",
    "    test_loss = 0\n",
    "    correct = 0\n",
    "    test_losses=[]\n",
    "    \n",
    "    with torch.no_grad():\n",
    "        for data, target in test_loader:\n",
    "            output = network(data.to(0).type(dtype))\n",
    "            test_loss += torch.nn.CrossEntropyLoss()(output, target.to(0)).item()\n",
    "            pred = output.data.max(1, keepdim=True)[1].cpu()\n",
    "            correct += pred.eq(target.data.view_as(pred)).sum()\n",
    "        test_loss /= len(test_loader.dataset)\n",
    "        test_losses.append(test_loss)\n",
    "        if not silent:\n",
    "            print('\\nTest set: Avg. loss: {:.4f}, Accuracy: {}/{} ({:.0f}%)\\n'.format(\n",
    "        test_loss, correct, len(test_loader.dataset),\n",
    "        100. * correct / len(test_loader.dataset)))\n",
    "            \n",
    "    if silent:\n",
    "        return 100. * correct / len(test_loader.dataset) \n",
    "\n",
    "\n",
    "\n",
    "def latency(f, x, trials = 100):\n",
    "    f.cpu()\n",
    "    total = 0.0\n",
    "    for trial in range(trials):\n",
    "        start = time.perf_counter()\n",
    "        f(x)\n",
    "        total += time.perf_counter() - start\n",
    "    return total / trials\n",
    "\n",
    "\n",
    "class LowRankLinear(torch.nn.Module):\n",
    "    # takes in a linear layer and decomposes it into two low-rank linear layers\n",
    "    def __init__(self, fc, rank):\n",
    "        super(LowRankLinear, self).__init__()\n",
    "\n",
    "        self.fc1 = torch.nn.Linear(fc.weight.shape[1], rank, bias = False)\n",
    "        self.fc2 = torch.nn.Linear(rank, fc.weight.shape[0])\n",
    "        \n",
    "        weight1 = fc.weight\n",
    "\n",
    "        self.fc2.bias = fc.bias\n",
    "\n",
    "        W1 = weight1.cpu().detach().clone().numpy()\n",
    "\n",
    "        U1, E1, V1 = np.linalg.svd(W1, False)\n",
    "\n",
    "        rd1 = np.zeros((len(E1), len(E1)))\n",
    "\n",
    "        for i, v in enumerate(E1):\n",
    "            rd1[i, i] = v\n",
    "\n",
    "\n",
    "        if fc.weight.shape[1] > fc.weight.shape[0]:\n",
    "            # if the input dom of the fc is bigger than the output dim\n",
    "            self.fc1.weight = torch.nn.parameter.Parameter(torch.tensor(rd1[:rank, :rank] @ V1[:rank, :]).to(fc.weight.device).type(fc.weight.dtype))\n",
    "            self.fc2.weight = torch.nn.parameter.Parameter(torch.tensor(U1[:, :rank]).to(fc.weight.device).type(fc.weight.dtype))\n",
    "        else:\n",
    "            self.fc1.weight = torch.nn.parameter.Parameter(torch.tensor(V1[:rank, :]).to(fc.weight.device).type(fc.weight.dtype))\n",
    "            self.fc2.weight = torch.nn.parameter.Parameter(torch.tensor(U1[:, :rank] @ rd1[:rank, :rank]).to(fc.weight.device).type(fc.weight.dtype))\n",
    "\n",
    "\n",
    "    def forward(self, x):\n",
    "        return self.fc2(self.fc1(x))\n",
    "    \n",
    "def linearleaves(module):\n",
    "    # returns a list of pairs of (parent, submodule_name) pairs for all submodule leaves of the current module\n",
    "    if isinstance(module, torch.nn.Linear):\n",
    "        return [(module, None)]\n",
    "\n",
    "    linear_children = []\n",
    "    for name, mod in module.named_modules():\n",
    "        if isinstance(mod, torch.nn.Linear):\n",
    "            linear_children.append((name, module))\n",
    "    return linear_children\n",
    "        \n",
    "\n",
    "def getattrrecur(mod, s):\n",
    "    s = s.split('.')\n",
    "    for substr in s:\n",
    "        mod = getattr(mod, substr)\n",
    "    return mod\n",
    "\n",
    "\n",
    "def setattrrecur(mod, s, value):\n",
    "    s = s.split('.')\n",
    "    for substr in s[:-1]:\n",
    "        mod = getattr(mod, substr)\n",
    "    setattr(mod, s[-1], value)"
   ]
  },
  {
   "cell_type": "markdown",
   "metadata": {},
   "source": [
    "## we will use this custom module to assess the performance of the embedding model on a simple task"
   ]
  },
  {
   "cell_type": "code",
   "execution_count": 2,
   "metadata": {},
   "outputs": [],
   "source": [
    "class LinearProbe(torch.nn.Module):\n",
    "    def __init__(self, module):\n",
    "        super().__init__()\n",
    "        self.m = module\n",
    "        self.linear = torch.nn.Linear(384, 10)\n",
    "    \n",
    "    def forward(self, x):\n",
    "        x = self.m(x).detach()\n",
    "        return self.linear(x) * 100"
   ]
  },
  {
   "cell_type": "markdown",
   "metadata": {},
   "source": [
    "## training the linear probe"
   ]
  },
  {
   "cell_type": "code",
   "execution_count": 3,
   "metadata": {},
   "outputs": [
    {
     "name": "stdout",
     "output_type": "stream",
     "text": [
      "Files already downloaded and verified\n",
      "Files already downloaded and verified\n"
     ]
    },
    {
     "name": "stderr",
     "output_type": "stream",
     "text": [
      "Using cache found in ./hub/facebookresearch_dinov2_main\n",
      "391it [00:47,  8.17it/s]\n"
     ]
    },
    {
     "name": "stdout",
     "output_type": "stream",
     "text": [
      "\n",
      "Test set: Avg. loss: 0.0211, Accuracy: 9405/10000 (94%)\n",
      "\n"
     ]
    },
    {
     "name": "stderr",
     "output_type": "stream",
     "text": [
      "391it [00:46,  8.39it/s]\n"
     ]
    },
    {
     "name": "stdout",
     "output_type": "stream",
     "text": [
      "\n",
      "Test set: Avg. loss: 0.0173, Accuracy: 9437/10000 (94%)\n",
      "\n"
     ]
    }
   ],
   "source": [
    "train_ds = torchvision.datasets.CIFAR10('./cifar10', train=True, transform=DINOv2_transform, download=True)\n",
    "val_ds = torchvision.datasets.CIFAR10('./cifar10', train=False, transform=DINOv2_transform, download=True)\n",
    "\n",
    "train_loader = torch.utils.data.DataLoader(train_ds, batch_size=128)\n",
    "val_loader = torch.utils.data.DataLoader(val_ds, batch_size=128)\n",
    "\n",
    "DINOv2 = dino_model()\n",
    "\n",
    "model = LinearProbe(DINOv2)\n",
    "optimizer = torch.optim.Adam(model.parameters(), lr=1e-3)\n",
    "\n",
    "for epoch in range(2):\n",
    "    train(model.to(0), optimizer, train_loader)\n",
    "    gc.collect()\n",
    "    test(model, val_loader)"
   ]
  },
  {
   "cell_type": "markdown",
   "metadata": {},
   "source": [
    "## clustering the neurons only occurs in the fc layers of the transformer for now (these are responsible for the majority of the parameters)\n",
    "## rank reduction only occurs when it would reduce model latency (when the rank is reduced by more than half)\n",
    "\n",
    "see the previous notebook for more details on these two approaches\n",
    "\n",
    "\n",
    "https://arxiv.org/pdf/2206.06072.pdf"
   ]
  },
  {
   "cell_type": "code",
   "execution_count": 4,
   "metadata": {},
   "outputs": [],
   "source": [
    "def clusteredlowrank(module, rank, threshold):\n",
    "    module = copy(module)\n",
    "\n",
    "    for (name, mod), (name_next, mod_next) in zip(linearleaves(module), linearleaves(module)[1:]):\n",
    "        if 'fc1' in name:\n",
    "            weights, bias, assignment = reduce_neurons(getattrrecur(mod, name).weight.detach().clone(), getattrrecur(mod, name).bias.detach().clone(), threshold=threshold)\n",
    "            cols = reduce_columns(getattrrecur(mod_next, name_next).weight.detach().clone(), assignment)\n",
    "\n",
    "            mod = torch.nn.Linear(weights.shape[1], weights.shape[0])\n",
    "            mod.weight = torch.nn.Parameter(weights.detach().clone())\n",
    "            mod.bias = torch.nn.Parameter(bias.detach().clone())\n",
    "\n",
    "            replacement_next = torch.nn.Linear(cols.shape[1], cols.shape[0])\n",
    "            replacement_next.weight = torch.nn.Parameter(cols.detach().clone())\n",
    "            replacement_next.bias = getattrrecur(mod_next, name_next).bias\n",
    "\n",
    "            setattrrecur(module, name, mod)\n",
    "            setattrrecur(module, name_next, replacement_next)\n",
    "\n",
    "\n",
    "    for name, mod in linearleaves(module):\n",
    "        setattrrecur(module, name, LowRankLinear(getattrrecur(module, name), rank))\n",
    "    test(module, val_loader)\n",
    "    print(latency(module.eval(), torch.ones(1, 3, 224, 224)))\n",
    "\n",
    "def lowranklatency(module, rank):\n",
    "    module = copy(module).cpu()\n",
    "    start = time.time()\n",
    "    layers_reduced = 0\n",
    "    for i, (name, mod) in enumerate(linearleaves(module)):\n",
    "        setattrrecur(module, name, LowRankLinear(getattrrecur(module, name), rank))\n",
    "        layers_reduced += 1\n",
    "\n",
    "    print(f'layers reduced: {layers_reduced} ({time.time() - start}s)')\n",
    "    test(module, val_loader)\n",
    "\n",
    "    print(latency(module.eval(), torch.ones(1, 3, 224, 224)))\n",
    "\n",
    "\n",
    "def laterlowranklatency(module, rank, after=27):\n",
    "    module = copy(module).cpu()\n",
    "    start = time.time()\n",
    "    layers_reduced = 0\n",
    "    for i, (name, mod) in enumerate(linearleaves(module)):\n",
    "        if i > after:\n",
    "            setattrrecur(module, name, LowRankLinear(getattrrecur(module, name), rank))\n",
    "            layers_reduced += 1\n",
    "\n",
    "    print(f'layers reduced: {layers_reduced} ({time.time() - start}s)')\n",
    "    test(module, val_loader)\n",
    "\n",
    "    print(latency(module.eval(), torch.ones(1, 3, 224, 224)))\n",
    "\n",
    "\n",
    "def earlierlowranklatency(module, rank, before=8):\n",
    "    module = copy(module).cpu()\n",
    "    start = time.time()\n",
    "    layers_reduced = 0\n",
    "    for i, (name, mod) in enumerate(linearleaves(module)):\n",
    "        if i < before:\n",
    "            setattrrecur(module, name, LowRankLinear(getattrrecur(module, name), rank))\n",
    "            layers_reduced += 1\n",
    "\n",
    "    print(f'layers reduced: {layers_reduced} ({time.time() - start}s)')\n",
    "    test(module, val_loader)\n",
    "\n",
    "    print(latency(module.eval(), torch.ones(1, 3, 224, 224)))\n",
    "\n",
    "\n",
    "def clusteredlatency(module, threshold):\n",
    "    module = copy(module)\n",
    "    start = time.time()\n",
    "\n",
    "    neurons_reduced = 0\n",
    "\n",
    "    for (name, mod), (name_next, mod_next) in zip(linearleaves(module), linearleaves(module)[1:]):\n",
    "        if 'fc1' in name:\n",
    "            weights, bias, assignment = reduce_neurons(getattrrecur(mod, name).weight.detach().clone(), getattrrecur(mod, name).bias.detach().clone(), threshold=threshold)\n",
    "\n",
    "            neurons_reduced += (torch.tensor(getattrrecur(mod, name).weight.shape) - torch.tensor(weights.shape)).sum()\n",
    "\n",
    "            cols = reduce_columns(getattrrecur(mod_next, name_next).weight.detach().clone(), assignment)\n",
    "\n",
    "            mod = torch.nn.Linear(weights.shape[1], weights.shape[0])\n",
    "            mod.weight = torch.nn.Parameter(weights.detach().clone())\n",
    "            mod.bias = torch.nn.Parameter(bias.detach().clone())\n",
    "\n",
    "            replacement_next = torch.nn.Linear(cols.shape[1], cols.shape[0])\n",
    "            replacement_next.weight = torch.nn.Parameter(cols.detach().clone())\n",
    "            replacement_next.bias = getattrrecur(mod_next, name_next).bias\n",
    "\n",
    "            setattrrecur(module, name, mod)\n",
    "            setattrrecur(module, name_next, replacement_next)\n",
    "\n",
    "    print(f'neurons reduced: {neurons_reduced} ({time.time() - start}s)')\n",
    "    test(module, val_loader)\n",
    "\n",
    "    print(latency(module.eval(), torch.ones(1, 3, 224, 224)))\n",
    "\n",
    "\n",
    "def laterclusteredlatency(module, threshold, after=28):\n",
    "    module = copy(module)\n",
    "    start = time.time()\n",
    "\n",
    "    neurons_reduced = 0\n",
    "\n",
    "    for i, ((name, mod), (name_next, mod_next)) in enumerate(zip(linearleaves(module), linearleaves(module)[1:])):\n",
    "        if 'fc1' in name and i > after:\n",
    "            weights, bias, assignment = reduce_neurons(getattrrecur(mod, name).weight.detach().clone(), getattrrecur(mod, name).bias.detach().clone(), threshold=threshold)\n",
    "\n",
    "            neurons_reduced += (torch.tensor(getattrrecur(mod, name).weight.shape) - torch.tensor(weights.shape)).sum()\n",
    "\n",
    "            cols = reduce_columns(getattrrecur(mod_next, name_next).weight.detach().clone(), assignment)\n",
    "\n",
    "            mod = torch.nn.Linear(weights.shape[1], weights.shape[0])\n",
    "            mod.weight = torch.nn.Parameter(weights.detach().clone())\n",
    "            mod.bias = torch.nn.Parameter(bias.detach().clone())\n",
    "\n",
    "            replacement_next = torch.nn.Linear(cols.shape[1], cols.shape[0])\n",
    "            replacement_next.weight = torch.nn.Parameter(cols.detach().clone())\n",
    "            replacement_next.bias = getattrrecur(mod_next, name_next).bias\n",
    "\n",
    "            setattrrecur(module, name, mod)\n",
    "            setattrrecur(module, name_next, replacement_next)\n",
    "\n",
    "    print(f'neurons reduced: {neurons_reduced} ({time.time() - start}s)')\n",
    "    test(module, val_loader)\n",
    "\n",
    "    print(latency(module.eval(), torch.ones(1, 3, 224, 224)))\n",
    "\n",
    "\n",
    "def earlierclusteredlatency(module, threshold, before=28):\n",
    "    module = copy(module)\n",
    "    start = time.time()\n",
    "\n",
    "    neurons_reduced = 0\n",
    "\n",
    "    for i, ((name, mod), (name_next, mod_next)) in enumerate(zip(linearleaves(module), linearleaves(module)[1:])):\n",
    "        if 'fc1' in name and i < before:\n",
    "            weights, bias, assignment = reduce_neurons(getattrrecur(mod, name).weight.detach().clone(), getattrrecur(mod, name).bias.detach().clone(), threshold=threshold)\n",
    "\n",
    "            neurons_reduced += (torch.tensor(getattrrecur(mod, name).weight.shape) - torch.tensor(weights.shape)).sum()\n",
    "\n",
    "            cols = reduce_columns(getattrrecur(mod_next, name_next).weight.detach().clone(), assignment)\n",
    "\n",
    "            mod = torch.nn.Linear(weights.shape[1], weights.shape[0])\n",
    "            mod.weight = torch.nn.Parameter(weights.detach().clone())\n",
    "            mod.bias = torch.nn.Parameter(bias.detach().clone())\n",
    "\n",
    "            replacement_next = torch.nn.Linear(cols.shape[1], cols.shape[0])\n",
    "            replacement_next.weight = torch.nn.Parameter(cols.detach().clone())\n",
    "            replacement_next.bias = getattrrecur(mod_next, name_next).bias\n",
    "\n",
    "            setattrrecur(module, name, mod)\n",
    "            setattrrecur(module, name_next, replacement_next)\n",
    "\n",
    "    print(f'neurons reduced: {neurons_reduced} ({time.time() - start}s)')\n",
    "    test(module, val_loader)\n",
    "\n",
    "    print(latency(module.eval(), torch.ones(1, 3, 224, 224)))"
   ]
  },
  {
   "cell_type": "code",
   "execution_count": 5,
   "metadata": {},
   "outputs": [],
   "source": [
    "def count_parameters(model):\n",
    "    return sum(p.numel() for p in model.parameters())"
   ]
  },
  {
   "cell_type": "code",
   "execution_count": 6,
   "metadata": {},
   "outputs": [
    {
     "name": "stdout",
     "output_type": "stream",
     "text": [
      "0.023230103149835486\n",
      "\n",
      "Test set: Avg. loss: 0.0173, Accuracy: 9437/10000 (94%)\n",
      "\n"
     ]
    }
   ],
   "source": [
    "model.float().cpu()\n",
    "print(latency(model.eval(), torch.ones(1, 3, 224, 224)))\n",
    "test(model, val_loader)"
   ]
  },
  {
   "cell_type": "markdown",
   "metadata": {},
   "source": [
    "bfloats are actually much (~100x) slower on the cpu than float32s"
   ]
  },
  {
   "cell_type": "markdown",
   "metadata": {},
   "source": [
    "Now we will test our hypothesis by lattice descent on the compression graph and then a more exhaustive grid search."
   ]
  },
  {
   "cell_type": "code",
   "execution_count": 7,
   "metadata": {},
   "outputs": [],
   "source": [
    "def svdlayer(module, rank, name=None):\n",
    "    module = copy(module).cpu()\n",
    "    start = time.time()\n",
    "    \n",
    "    setattrrecur(module, name, LowRankLinear(getattrrecur(module, name), rank))\n",
    "\n",
    "    return module\n",
    "\n",
    "\n",
    "def svdmodel(module, rank):\n",
    "    module = copy(module).cpu()\n",
    "    layers_reduced = 0\n",
    "    for i, (name, mod) in enumerate(linearleaves(module)):\n",
    "        setattrrecur(module, name, LowRankLinear(getattrrecur(module, name), rank))\n",
    "        layers_reduced += 1\n",
    "\n",
    "    return module\n",
    "\n",
    "\n",
    "def clusterlayer(module, threshold, layer=0):\n",
    "    module = copy(module)\n",
    "    start = time.time()\n",
    "\n",
    "    neurons_reduced = 0\n",
    "\n",
    "    for i, ((name, mod), (name_next, mod_next)) in enumerate(zip(linearleaves(module), linearleaves(module)[1:])):\n",
    "        if 'fc1' in name and i == layer:\n",
    "            weights, bias, assignment = reduce_neurons(getattrrecur(mod, name).weight.detach().clone(), getattrrecur(mod, name).bias.detach().clone(), threshold=threshold)\n",
    "\n",
    "            neurons_reduced += (torch.tensor(getattrrecur(mod, name).weight.shape) - torch.tensor(weights.shape)).sum()\n",
    "\n",
    "            cols = reduce_columns(getattrrecur(mod_next, name_next).weight.detach().clone(), assignment)\n",
    "\n",
    "            mod = torch.nn.Linear(weights.shape[1], weights.shape[0])\n",
    "            mod.weight = torch.nn.Parameter(weights.detach().clone())\n",
    "            mod.bias = torch.nn.Parameter(bias.detach().clone())\n",
    "\n",
    "            replacement_next = torch.nn.Linear(cols.shape[1], cols.shape[0])\n",
    "            replacement_next.weight = torch.nn.Parameter(cols.detach().clone())\n",
    "            replacement_next.bias = getattrrecur(mod_next, name_next).bias\n",
    "\n",
    "            setattrrecur(module, name, mod)\n",
    "            setattrrecur(module, name_next, replacement_next)\n",
    "\n",
    "    return module, neurons_reduced\n",
    "\n",
    "\n",
    "\n",
    "def clustermodel(module, threshold):\n",
    "    module = copy(module)\n",
    "    start = time.time()\n",
    "\n",
    "    neurons_reduced = 0\n",
    "\n",
    "    for i, ((name, mod), (name_next, mod_next)) in enumerate(zip(linearleaves(module), linearleaves(module)[1:])):\n",
    "        if 'fc1' in name:\n",
    "            weights, bias, assignment = reduce_neurons(getattrrecur(mod, name).weight.detach().clone(), getattrrecur(mod, name).bias.detach().clone(), threshold=threshold)\n",
    "\n",
    "            neurons_reduced += (torch.tensor(getattrrecur(mod, name).weight.shape) - torch.tensor(weights.shape)).sum()\n",
    "\n",
    "            cols = reduce_columns(getattrrecur(mod_next, name_next).weight.detach().clone(), assignment)\n",
    "\n",
    "            mod = torch.nn.Linear(weights.shape[1], weights.shape[0])\n",
    "            mod.weight = torch.nn.Parameter(weights.detach().clone())\n",
    "            mod.bias = torch.nn.Parameter(bias.detach().clone())\n",
    "\n",
    "            replacement_next = torch.nn.Linear(cols.shape[1], cols.shape[0])\n",
    "            replacement_next.weight = torch.nn.Parameter(cols.detach().clone())\n",
    "            replacement_next.bias = getattrrecur(mod_next, name_next).bias\n",
    "\n",
    "            setattrrecur(module, name, mod)\n",
    "            setattrrecur(module, name_next, replacement_next)\n",
    "\n",
    "    return module, neurons_reduced\n",
    "\n",
    "\n",
    "def getclusterablelayers(module):\n",
    "    cluster_idxs = []\n",
    "    lowrank_idxs = []\n",
    "\n",
    "    for i, ((name, mod), (name_next, mod_next)) in enumerate(zip(linearleaves(module), linearleaves(module)[1:])):\n",
    "        lowrank_idxs.append(i)\n",
    "        if 'fc1' in name:\n",
    "            cluster_idxs.append(i)\n",
    "\n",
    "    return cluster_idxs\n",
    "\n",
    "def getclusterablelayernames(module):\n",
    "    cluster_idxs = []\n",
    "    lowrank_idxs = []\n",
    "\n",
    "    for i, ((name, mod), (name_next, mod_next)) in enumerate(zip(linearleaves(module), linearleaves(module)[1:])):\n",
    "        lowrank_idxs.append(i)\n",
    "        if 'fc1' in name:\n",
    "            cluster_idxs.append(name)\n",
    "\n",
    "    return cluster_idxs\n",
    "\n",
    "def latticedescenteval(module, tolerance=4):\n",
    "    cluster_idxs = getclusterablelayers(module)\n",
    "    module = copy(module)\n",
    "    inital_acc = test(module, val_loader, silent=True)\n",
    "    initial_params = count_parameters(module)\n",
    "\n",
    "    lattice = [(module, inital_acc)]\n",
    "\n",
    "    reduced = []\n",
    "    neurons_reduced = []\n",
    "    \n",
    "    while max(lattice, key=lambda k: k[-1])[-1] > inital_acc - tolerance:\n",
    "        module = lattice[0][0]\n",
    "        print(latency(module.eval(), torch.ones(1, 3, 224, 224)))\n",
    "        lattice.clear()\n",
    "        for i in cluster_idxs:\n",
    "            m, neurons = clusterlayer(module, 0.1, layer=i)\n",
    "            distance = 0.1\n",
    "            while neurons < 50:\n",
    "                distance += 0.1\n",
    "                m, neurons = clusterlayer(module, distance, layer=i)\n",
    "            else:\n",
    "                acc = test(m.bfloat16(), val_loader, torch.bfloat16, silent=True)\n",
    "                lattice.append((m.float(), i, neurons, acc))\n",
    "        \n",
    "        if lattice:\n",
    "            m, i, neurons, acc = max(lattice, key=lambda k: k[-1])\n",
    "        else:\n",
    "            break\n",
    "\n",
    "        train(m.to(0), optimizer, train_loader)\n",
    "\n",
    "        reduced.append(i)\n",
    "        neurons_reduced.append(neurons)\n",
    "\n",
    "        lattice = [(m, acc)]\n",
    "\n",
    "        current_params = count_parameters(m)\n",
    "        print(f'Current accuracy: {float(lattice[0][1])}% ({float(lattice[0][1]) - float(inital_acc)}), layers reduced: {reduced}; neurons reduced: {sum(neurons_reduced)} (- {initial_params - current_params} parameters)')\n",
    "    \n",
    "    return lattice[0][0]\n"
   ]
  },
  {
   "cell_type": "code",
   "execution_count": 8,
   "metadata": {},
   "outputs": [],
   "source": [
    "def getcompressablelayers(module):\n",
    "    lowrank_names = []\n",
    "\n",
    "    for i, ((name, mod), (name_next, mod_next)) in enumerate(zip(linearleaves(module), linearleaves(module)[1:])):\n",
    "        lowrank_names.append(name)\n",
    "\n",
    "    return lowrank_names\n",
    "\n",
    "\n",
    "def lowranklatticedescenteval(module, tolerance=4):\n",
    "    lowrank_names = getcompressablelayers(module)\n",
    "    module = copy(module)\n",
    "    inital_acc = test(module, val_loader, silent=True)\n",
    "    initial_params = count_parameters(module)\n",
    "\n",
    "    lattice = [(module, inital_acc)]\n",
    "\n",
    "    reduced = []\n",
    "    \n",
    "    while max(lattice, key=lambda k: k[-1])[-1] > inital_acc - tolerance:\n",
    "        lowrank_names = getcompressablelayers(module)\n",
    "        module = lattice[0][0]\n",
    "        print(latency(module.eval(), torch.ones(1, 3, 224, 224)))\n",
    "        lattice.clear()\n",
    "\n",
    "        for name in lowrank_names:\n",
    "            \n",
    "            try:\n",
    "                min_weight = torch.tensor(getattrrecur(module, name).weight.shape).min()\n",
    "            except:\n",
    "                continue\n",
    "            \n",
    "            m = svdlayer(module, min_weight // 4, name=name)\n",
    "            acc = test(m.bfloat16(), val_loader, torch.bfloat16, silent=True)\n",
    "            lattice.append((m, name, acc))\n",
    "        \n",
    "        if lattice:\n",
    "            m, i, acc = max(lattice, key=lambda k: k[-1])\n",
    "        else:\n",
    "            break\n",
    "\n",
    "        train(m.float().to(0), optimizer, train_loader)\n",
    "\n",
    "        reduced.append(i)\n",
    "\n",
    "        lattice = [(m, acc)]\n",
    "\n",
    "        current_params = count_parameters(m)\n",
    "        print(f'Current accuracy: {float(lattice[0][1])}% ({float(lattice[0][1]) - float(inital_acc)}), layers reduced: {reduced} (- {initial_params - current_params} parameters)')\n",
    "    \n",
    "    return lattice[0][0]\n"
   ]
  },
  {
   "cell_type": "markdown",
   "metadata": {},
   "source": [
    "# TODO:\n",
    "- write a function that computes the intermediate output of a layer by its name\n",
    "- write a function to bin the former outputs into a histogram\n",
    "- write a function to aggregate neurons with low EMD / JS / KL / CE divergence\n",
    "    + can probably just cluster these neurons using this metric as the distance for agglomerative clustering as above\n",
    "- write a function to estimate the mutual information of neurons using the activation histogram\n",
    "    + these neurons can clearly be eliminated, but it is not clear how.  Maybe we just drop them?"
   ]
  },
  {
   "cell_type": "code",
   "execution_count": 14,
   "metadata": {},
   "outputs": [],
   "source": [
    "def get_activation(name):\n",
    "    activations = []\n",
    "    def hook(model, input, output):\n",
    "        activations.append(output.detach().clone().cpu())\n",
    "    return hook, activations\n",
    "\n",
    "\n",
    "def activationdist(network, test_loader, names, dtype=torch.float32, silent=False):\n",
    "    network = copy(network)\n",
    "    network.eval().to(0)\n",
    "    test_loss = 0\n",
    "    correct = 0\n",
    "    test_losses=[]\n",
    "\n",
    "    dist_dict = {}\n",
    "\n",
    "    for name in names:\n",
    "        hook, activations = get_activation(name)\n",
    "        dist_dict[name] = activations\n",
    "        getattrrecur(network, name).register_forward_hook(hook)\n",
    "    \n",
    "    with torch.no_grad():\n",
    "        for i, (data, target) in enumerate(test_loader):\n",
    "            if i > 4: \n",
    "                break\n",
    "            output = network(data.to(0).type(dtype))\n",
    "\n",
    "    return {k: torch.cat(dist_dict[k], 0) for k in dist_dict}\n",
    "\n",
    "\n",
    "from scipy.stats import wasserstein_distance\n",
    "\n",
    "def emd_neurons(batch):\n",
    "\n",
    "    batch = torch.flatten(batch, 0, 1)\n",
    "\n",
    "    hists = []\n",
    "    bins = []\n",
    "\n",
    "    for i in range(batch.shape[-1]):\n",
    "        print(i, end='\\r')\n",
    "        h, b = np.histogram(batch[:, i], 100, density=True)\n",
    "        hists.append(h / h.sum())\n",
    "        bins.append(b)\n",
    "\n",
    "    centers = copy(bins)\n",
    "    for j, bi in enumerate(bins):\n",
    "        for i, b in enumerate(bi[:-1]):\n",
    "            bi[i] = (bi[i] + bi[i+1]) / 2\n",
    "        centers[j] = bi[:-1]\n",
    "    ds = torch.zeros(batch.shape[-1], batch.shape[-1])\n",
    "\n",
    "    for i in range(batch.shape[-1]):\n",
    "        print(i, end='\\r')\n",
    "        for j in range(batch.shape[-1]):\n",
    "            if i != j:\n",
    "                ds[i][j] = wasserstein_distance(centers[i], centers[j], hists[i], hists[j])\n",
    "\n",
    "    return ds\n",
    "\n",
    "def clusterlayerdist(module, threshold, name=None, D=None):\n",
    "    module = copy(module)\n",
    "    start = time.time()\n",
    "\n",
    "    neurons_reduced = 0\n",
    "\n",
    "    for i, ((n, mod), (name_next, mod_next)) in enumerate(zip(linearleaves(module), linearleaves(module)[1:])):\n",
    "        if n == name:\n",
    "            weights, bias, assignment = reduce_neurons(getattrrecur(mod, n).weight.detach().clone(), getattrrecur(mod, n).bias.detach().clone(), threshold=threshold, D=D)\n",
    "\n",
    "            neurons_reduced += (torch.tensor(getattrrecur(mod, n).weight.shape) - torch.tensor(weights.shape)).sum()\n",
    "\n",
    "            cols = reduce_columns(getattrrecur(mod_next, name_next).weight.detach().clone(), assignment)\n",
    "\n",
    "            mod = torch.nn.Linear(weights.shape[1], weights.shape[0])\n",
    "            mod.weight = torch.nn.Parameter(weights.detach().clone())\n",
    "            mod.bias = torch.nn.Parameter(bias.detach().clone())\n",
    "\n",
    "            replacement_next = torch.nn.Linear(cols.shape[1], cols.shape[0])\n",
    "            replacement_next.weight = torch.nn.Parameter(cols.detach().clone())\n",
    "            replacement_next.bias = getattrrecur(mod_next, name_next).bias\n",
    "\n",
    "            setattrrecur(module, n, mod)\n",
    "            setattrrecur(module, name_next, replacement_next)\n",
    "\n",
    "    return module, neurons_reduced"
   ]
  },
  {
   "cell_type": "code",
   "execution_count": 15,
   "metadata": {},
   "outputs": [],
   "source": [
    "import gc\n",
    "\n",
    "def latticedescentevalemd(module, tolerance=4):\n",
    "    cluster_idxs = getclusterablelayernames(module)\n",
    "    module = copy(module)\n",
    "    inital_acc = test(module, val_loader, silent=True)\n",
    "    initial_params = count_parameters(module)\n",
    "\n",
    "    lattice = [(module, inital_acc)]\n",
    "\n",
    "    reduced = []\n",
    "    neurons_reduced = []\n",
    "    \n",
    "    while max(lattice, key=lambda k: k[-1])[-1] > inital_acc - tolerance:\n",
    "        act_dict = activationdist(module, val_loader, cluster_idxs)\n",
    "        module = lattice[0][0]\n",
    "        print(latency(module.eval(), torch.ones(1, 3, 224, 224)))\n",
    "        lattice.clear()\n",
    "        for i in cluster_idxs:\n",
    "            D = emd_neurons(act_dict[i])\n",
    "            m, neurons = clusterlayerdist(module, 0.03, name=i, D=D)\n",
    "            distance = 0.03\n",
    "            while neurons < 50:\n",
    "                distance += 0.01\n",
    "                m, neurons = clusterlayerdist(module, distance, name=i, D=D)\n",
    "            else:\n",
    "                acc = test(m.bfloat16(), val_loader, torch.bfloat16, silent=True)\n",
    "                lattice.append((m.float(), i, neurons, acc))\n",
    "        \n",
    "        if lattice:\n",
    "            m, i, neurons, acc = max(lattice, key=lambda k: k[-1])\n",
    "        else:\n",
    "            break\n",
    "\n",
    "        # train(m.to(0), optimizer, train_loader)\n",
    "\n",
    "        reduced.append(i)\n",
    "        cluster_idxs = [n for n in cluster_idxs if n != i]\n",
    "        neurons_reduced.append(neurons)\n",
    "\n",
    "        lattice = [(m, acc)]\n",
    "        act_dict.clear()\n",
    "\n",
    "        current_params = count_parameters(m)\n",
    "        gc.collect()\n",
    "        print(f'Current accuracy: {float(lattice[0][1])}% ({float(lattice[0][1]) - float(inital_acc)}), layers reduced: {reduced}; neurons reduced: {sum(neurons_reduced)} (- {initial_params - current_params} parameters)')\n",
    "    \n",
    "    return lattice[0][0]"
   ]
  },
  {
   "cell_type": "code",
   "execution_count": 16,
   "metadata": {},
   "outputs": [
    {
     "name": "stdout",
     "output_type": "stream",
     "text": [
      "0.022625604918575844\n",
      "Current accuracy: 94.4800033569336% (0.1100006103515625), layers reduced: ['m.blocks.11.mlp.fc1']; neurons reduced: 326 (- 250694 parameters)\n",
      "0.021606395712296944\n",
      "Current accuracy: 94.48999786376953% (0.1199951171875), layers reduced: ['m.blocks.11.mlp.fc1', 'm.blocks.0.mlp.fc1']; neurons reduced: 699 (- 537531 parameters)\n",
      "0.021742363451339772\n",
      "Current accuracy: 93.95999908447266% (-0.410003662109375), layers reduced: ['m.blocks.11.mlp.fc1', 'm.blocks.0.mlp.fc1', 'm.blocks.7.mlp.fc1']; neurons reduced: 1000 (- 769000 parameters)\n",
      "0.02120338946057018\n",
      "Current accuracy: 93.80999755859375% (-0.5600051879882812), layers reduced: ['m.blocks.11.mlp.fc1', 'm.blocks.0.mlp.fc1', 'm.blocks.7.mlp.fc1', 'm.blocks.10.mlp.fc1']; neurons reduced: 1153 (- 886657 parameters)\n",
      "0.021972234430431854\n",
      "Current accuracy: 92.72000122070312% (-1.6500015258789062), layers reduced: ['m.blocks.11.mlp.fc1', 'm.blocks.0.mlp.fc1', 'm.blocks.7.mlp.fc1', 'm.blocks.10.mlp.fc1', 'm.blocks.9.mlp.fc1']; neurons reduced: 1383 (- 1063527 parameters)\n",
      "0.021190055271144956\n",
      "Current accuracy: 91.68000030517578% (-2.69000244140625), layers reduced: ['m.blocks.11.mlp.fc1', 'm.blocks.0.mlp.fc1', 'm.blocks.7.mlp.fc1', 'm.blocks.10.mlp.fc1', 'm.blocks.9.mlp.fc1', 'm.blocks.1.mlp.fc1']; neurons reduced: 1962 (- 1508778 parameters)\n",
      "0.02141225331055466\n",
      "Current accuracy: 90.13999938964844% (-4.230003356933594), layers reduced: ['m.blocks.11.mlp.fc1', 'm.blocks.0.mlp.fc1', 'm.blocks.7.mlp.fc1', 'm.blocks.10.mlp.fc1', 'm.blocks.9.mlp.fc1', 'm.blocks.1.mlp.fc1', 'm.blocks.4.mlp.fc1']; neurons reduced: 2452 (- 1885588 parameters)\n"
     ]
    },
    {
     "data": {
      "text/plain": [
       "LinearProbe(\n",
       "  (m): DinoVisionTransformer(\n",
       "    (patch_embed): PatchEmbed(\n",
       "      (proj): Conv2d(3, 384, kernel_size=(14, 14), stride=(14, 14))\n",
       "      (norm): Identity()\n",
       "    )\n",
       "    (blocks): ModuleList(\n",
       "      (0): NestedTensorBlock(\n",
       "        (norm1): LayerNorm((384,), eps=1e-06, elementwise_affine=True)\n",
       "        (attn): MemEffAttention(\n",
       "          (qkv): Linear(in_features=384, out_features=1152, bias=True)\n",
       "          (attn_drop): Dropout(p=0.0, inplace=False)\n",
       "          (proj): Linear(in_features=384, out_features=384, bias=True)\n",
       "          (proj_drop): Dropout(p=0.0, inplace=False)\n",
       "        )\n",
       "        (ls1): LayerScale()\n",
       "        (drop_path1): Identity()\n",
       "        (norm2): LayerNorm((384,), eps=1e-06, elementwise_affine=True)\n",
       "        (mlp): Mlp(\n",
       "          (fc1): Linear(in_features=384, out_features=1163, bias=True)\n",
       "          (act): GELU(approximate='none')\n",
       "          (fc2): Linear(in_features=1163, out_features=384, bias=True)\n",
       "          (drop): Dropout(p=0.0, inplace=False)\n",
       "        )\n",
       "        (ls2): LayerScale()\n",
       "        (drop_path2): Identity()\n",
       "      )\n",
       "      (1): NestedTensorBlock(\n",
       "        (norm1): LayerNorm((384,), eps=1e-06, elementwise_affine=True)\n",
       "        (attn): MemEffAttention(\n",
       "          (qkv): Linear(in_features=384, out_features=1152, bias=True)\n",
       "          (attn_drop): Dropout(p=0.0, inplace=False)\n",
       "          (proj): Linear(in_features=384, out_features=384, bias=True)\n",
       "          (proj_drop): Dropout(p=0.0, inplace=False)\n",
       "        )\n",
       "        (ls1): LayerScale()\n",
       "        (drop_path1): Identity()\n",
       "        (norm2): LayerNorm((384,), eps=1e-06, elementwise_affine=True)\n",
       "        (mlp): Mlp(\n",
       "          (fc1): Linear(in_features=384, out_features=957, bias=True)\n",
       "          (act): GELU(approximate='none')\n",
       "          (fc2): Linear(in_features=957, out_features=384, bias=True)\n",
       "          (drop): Dropout(p=0.0, inplace=False)\n",
       "        )\n",
       "        (ls2): LayerScale()\n",
       "        (drop_path2): Identity()\n",
       "      )\n",
       "      (2-3): 2 x NestedTensorBlock(\n",
       "        (norm1): LayerNorm((384,), eps=1e-06, elementwise_affine=True)\n",
       "        (attn): MemEffAttention(\n",
       "          (qkv): Linear(in_features=384, out_features=1152, bias=True)\n",
       "          (attn_drop): Dropout(p=0.0, inplace=False)\n",
       "          (proj): Linear(in_features=384, out_features=384, bias=True)\n",
       "          (proj_drop): Dropout(p=0.0, inplace=False)\n",
       "        )\n",
       "        (ls1): LayerScale()\n",
       "        (drop_path1): Identity()\n",
       "        (norm2): LayerNorm((384,), eps=1e-06, elementwise_affine=True)\n",
       "        (mlp): Mlp(\n",
       "          (fc1): Linear(in_features=384, out_features=1536, bias=True)\n",
       "          (act): GELU(approximate='none')\n",
       "          (fc2): Linear(in_features=1536, out_features=384, bias=True)\n",
       "          (drop): Dropout(p=0.0, inplace=False)\n",
       "        )\n",
       "        (ls2): LayerScale()\n",
       "        (drop_path2): Identity()\n",
       "      )\n",
       "      (4): NestedTensorBlock(\n",
       "        (norm1): LayerNorm((384,), eps=1e-06, elementwise_affine=True)\n",
       "        (attn): MemEffAttention(\n",
       "          (qkv): Linear(in_features=384, out_features=1152, bias=True)\n",
       "          (attn_drop): Dropout(p=0.0, inplace=False)\n",
       "          (proj): Linear(in_features=384, out_features=384, bias=True)\n",
       "          (proj_drop): Dropout(p=0.0, inplace=False)\n",
       "        )\n",
       "        (ls1): LayerScale()\n",
       "        (drop_path1): Identity()\n",
       "        (norm2): LayerNorm((384,), eps=1e-06, elementwise_affine=True)\n",
       "        (mlp): Mlp(\n",
       "          (fc1): Linear(in_features=384, out_features=1046, bias=True)\n",
       "          (act): GELU(approximate='none')\n",
       "          (fc2): Linear(in_features=1046, out_features=384, bias=True)\n",
       "          (drop): Dropout(p=0.0, inplace=False)\n",
       "        )\n",
       "        (ls2): LayerScale()\n",
       "        (drop_path2): Identity()\n",
       "      )\n",
       "      (5-6): 2 x NestedTensorBlock(\n",
       "        (norm1): LayerNorm((384,), eps=1e-06, elementwise_affine=True)\n",
       "        (attn): MemEffAttention(\n",
       "          (qkv): Linear(in_features=384, out_features=1152, bias=True)\n",
       "          (attn_drop): Dropout(p=0.0, inplace=False)\n",
       "          (proj): Linear(in_features=384, out_features=384, bias=True)\n",
       "          (proj_drop): Dropout(p=0.0, inplace=False)\n",
       "        )\n",
       "        (ls1): LayerScale()\n",
       "        (drop_path1): Identity()\n",
       "        (norm2): LayerNorm((384,), eps=1e-06, elementwise_affine=True)\n",
       "        (mlp): Mlp(\n",
       "          (fc1): Linear(in_features=384, out_features=1536, bias=True)\n",
       "          (act): GELU(approximate='none')\n",
       "          (fc2): Linear(in_features=1536, out_features=384, bias=True)\n",
       "          (drop): Dropout(p=0.0, inplace=False)\n",
       "        )\n",
       "        (ls2): LayerScale()\n",
       "        (drop_path2): Identity()\n",
       "      )\n",
       "      (7): NestedTensorBlock(\n",
       "        (norm1): LayerNorm((384,), eps=1e-06, elementwise_affine=True)\n",
       "        (attn): MemEffAttention(\n",
       "          (qkv): Linear(in_features=384, out_features=1152, bias=True)\n",
       "          (attn_drop): Dropout(p=0.0, inplace=False)\n",
       "          (proj): Linear(in_features=384, out_features=384, bias=True)\n",
       "          (proj_drop): Dropout(p=0.0, inplace=False)\n",
       "        )\n",
       "        (ls1): LayerScale()\n",
       "        (drop_path1): Identity()\n",
       "        (norm2): LayerNorm((384,), eps=1e-06, elementwise_affine=True)\n",
       "        (mlp): Mlp(\n",
       "          (fc1): Linear(in_features=384, out_features=1235, bias=True)\n",
       "          (act): GELU(approximate='none')\n",
       "          (fc2): Linear(in_features=1235, out_features=384, bias=True)\n",
       "          (drop): Dropout(p=0.0, inplace=False)\n",
       "        )\n",
       "        (ls2): LayerScale()\n",
       "        (drop_path2): Identity()\n",
       "      )\n",
       "      (8): NestedTensorBlock(\n",
       "        (norm1): LayerNorm((384,), eps=1e-06, elementwise_affine=True)\n",
       "        (attn): MemEffAttention(\n",
       "          (qkv): Linear(in_features=384, out_features=1152, bias=True)\n",
       "          (attn_drop): Dropout(p=0.0, inplace=False)\n",
       "          (proj): Linear(in_features=384, out_features=384, bias=True)\n",
       "          (proj_drop): Dropout(p=0.0, inplace=False)\n",
       "        )\n",
       "        (ls1): LayerScale()\n",
       "        (drop_path1): Identity()\n",
       "        (norm2): LayerNorm((384,), eps=1e-06, elementwise_affine=True)\n",
       "        (mlp): Mlp(\n",
       "          (fc1): Linear(in_features=384, out_features=1536, bias=True)\n",
       "          (act): GELU(approximate='none')\n",
       "          (fc2): Linear(in_features=1536, out_features=384, bias=True)\n",
       "          (drop): Dropout(p=0.0, inplace=False)\n",
       "        )\n",
       "        (ls2): LayerScale()\n",
       "        (drop_path2): Identity()\n",
       "      )\n",
       "      (9): NestedTensorBlock(\n",
       "        (norm1): LayerNorm((384,), eps=1e-06, elementwise_affine=True)\n",
       "        (attn): MemEffAttention(\n",
       "          (qkv): Linear(in_features=384, out_features=1152, bias=True)\n",
       "          (attn_drop): Dropout(p=0.0, inplace=False)\n",
       "          (proj): Linear(in_features=384, out_features=384, bias=True)\n",
       "          (proj_drop): Dropout(p=0.0, inplace=False)\n",
       "        )\n",
       "        (ls1): LayerScale()\n",
       "        (drop_path1): Identity()\n",
       "        (norm2): LayerNorm((384,), eps=1e-06, elementwise_affine=True)\n",
       "        (mlp): Mlp(\n",
       "          (fc1): Linear(in_features=384, out_features=1306, bias=True)\n",
       "          (act): GELU(approximate='none')\n",
       "          (fc2): Linear(in_features=1306, out_features=384, bias=True)\n",
       "          (drop): Dropout(p=0.0, inplace=False)\n",
       "        )\n",
       "        (ls2): LayerScale()\n",
       "        (drop_path2): Identity()\n",
       "      )\n",
       "      (10): NestedTensorBlock(\n",
       "        (norm1): LayerNorm((384,), eps=1e-06, elementwise_affine=True)\n",
       "        (attn): MemEffAttention(\n",
       "          (qkv): Linear(in_features=384, out_features=1152, bias=True)\n",
       "          (attn_drop): Dropout(p=0.0, inplace=False)\n",
       "          (proj): Linear(in_features=384, out_features=384, bias=True)\n",
       "          (proj_drop): Dropout(p=0.0, inplace=False)\n",
       "        )\n",
       "        (ls1): LayerScale()\n",
       "        (drop_path1): Identity()\n",
       "        (norm2): LayerNorm((384,), eps=1e-06, elementwise_affine=True)\n",
       "        (mlp): Mlp(\n",
       "          (fc1): Linear(in_features=384, out_features=1383, bias=True)\n",
       "          (act): GELU(approximate='none')\n",
       "          (fc2): Linear(in_features=1383, out_features=384, bias=True)\n",
       "          (drop): Dropout(p=0.0, inplace=False)\n",
       "        )\n",
       "        (ls2): LayerScale()\n",
       "        (drop_path2): Identity()\n",
       "      )\n",
       "      (11): NestedTensorBlock(\n",
       "        (norm1): LayerNorm((384,), eps=1e-06, elementwise_affine=True)\n",
       "        (attn): MemEffAttention(\n",
       "          (qkv): Linear(in_features=384, out_features=1152, bias=True)\n",
       "          (attn_drop): Dropout(p=0.0, inplace=False)\n",
       "          (proj): Linear(in_features=384, out_features=384, bias=True)\n",
       "          (proj_drop): Dropout(p=0.0, inplace=False)\n",
       "        )\n",
       "        (ls1): LayerScale()\n",
       "        (drop_path1): Identity()\n",
       "        (norm2): LayerNorm((384,), eps=1e-06, elementwise_affine=True)\n",
       "        (mlp): Mlp(\n",
       "          (fc1): Linear(in_features=384, out_features=1210, bias=True)\n",
       "          (act): GELU(approximate='none')\n",
       "          (fc2): Linear(in_features=1210, out_features=384, bias=True)\n",
       "          (drop): Dropout(p=0.0, inplace=False)\n",
       "        )\n",
       "        (ls2): LayerScale()\n",
       "        (drop_path2): Identity()\n",
       "      )\n",
       "    )\n",
       "    (norm): LayerNorm((384,), eps=1e-06, elementwise_affine=True)\n",
       "    (head): Identity()\n",
       "  )\n",
       "  (linear): Linear(in_features=384, out_features=10, bias=True)\n",
       ")"
      ]
     },
     "execution_count": 16,
     "metadata": {},
     "output_type": "execute_result"
    }
   ],
   "source": [
    "latticedescentevalemd(model, tolerance=4)"
   ]
  },
  {
   "cell_type": "code",
   "execution_count": 45,
   "metadata": {},
   "outputs": [
    {
     "data": {
      "text/plain": [
       "(0.9999999999999992, 1.0000000000000009)"
      ]
     },
     "execution_count": 45,
     "metadata": {},
     "output_type": "execute_result"
    }
   ],
   "source": [
    "sums = [sum(h) for h in hists]\n",
    "min(sums), max(sums)"
   ]
  },
  {
   "cell_type": "code",
   "execution_count": 15,
   "metadata": {},
   "outputs": [],
   "source": [
    "import pickle\n",
    "with open('test_distances.pkl', 'wb') as fp:\n",
    "    pickle.dump((centers[0], centers[1], hists[0], hists[1]), fp)"
   ]
  },
  {
   "cell_type": "code",
   "execution_count": 16,
   "metadata": {},
   "outputs": [],
   "source": [
    "import pickle\n",
    "with open('test_distances.pkl', 'rb') as fp:\n",
    "    (centersx, centersy, histsx, histsy) = pickle.load(fp)"
   ]
  },
  {
   "cell_type": "code",
   "execution_count": 17,
   "metadata": {},
   "outputs": [
    {
     "data": {
      "text/plain": [
       "0.0017777474732549696"
      ]
     },
     "execution_count": 17,
     "metadata": {},
     "output_type": "execute_result"
    }
   ],
   "source": [
    "from distances import emd\n",
    "emd(centersx, centersy, histsx, histsy)"
   ]
  },
  {
   "cell_type": "code",
   "execution_count": 18,
   "metadata": {},
   "outputs": [
    {
     "data": {
      "text/plain": [
       "array([4.98595451e-06, 4.98598545e-06, 2.99157271e-05, 2.99157271e-05,\n",
       "       7.47897818e-05, 1.89466271e-04, 3.73946588e-04, 7.57865086e-04,\n",
       "       1.28638425e-03, 2.43813176e-03, 4.10344056e-03, 6.25741174e-03,\n",
       "       7.42408627e-03, 7.45901109e-03, 6.48174087e-03, 4.49235895e-03,\n",
       "       3.14614706e-03, 1.93455035e-03, 1.26643638e-03, 9.32373494e-04,\n",
       "       6.88063857e-04, 5.78372518e-04, 4.83637588e-04, 4.78653118e-04,\n",
       "       7.67839377e-04, 8.47612267e-04, 1.07198355e-03, 1.70021049e-03,\n",
       "       2.59769036e-03, 4.95605416e-03, 9.96692307e-03, 2.19332819e-02,\n",
       "       4.54968349e-02, 6.44287041e-02, 6.41494898e-02, 8.09719013e-02,\n",
       "       1.22924104e-01, 1.56454752e-01, 1.99587759e-01, 2.78979978e-01,\n",
       "       3.86207650e-01, 5.32416007e-01, 7.01554804e-01, 8.63535099e-01,\n",
       "       1.00997646e+00, 1.11087239e+00, 1.14477195e+00, 1.11639358e+00,\n",
       "       1.04515242e+00, 9.25080477e-01, 7.76089954e-01, 6.42790751e-01,\n",
       "       5.06349396e-01, 3.73653287e-01, 2.50818831e-01, 1.59067277e-01,\n",
       "       1.02621075e-01, 6.82179884e-02, 4.66536668e-02, 3.36901600e-02,\n",
       "       2.53286980e-02, 1.92258742e-02, 1.45939172e-02, 1.11286721e-02,\n",
       "       8.37143386e-03, 6.81082707e-03, 5.32002378e-03, 3.92893901e-03,\n",
       "       3.24087672e-03, 2.49298209e-03, 2.08413303e-03, 1.44593017e-03,\n",
       "       1.21158883e-03, 9.37361629e-04, 6.83076828e-04, 5.48455847e-04,\n",
       "       4.58708882e-04, 4.03863255e-04, 3.04143697e-04, 2.44312150e-04,\n",
       "       1.94452528e-04, 1.69522979e-04, 1.09691169e-04, 7.47894337e-05,\n",
       "       1.14677132e-04, 3.98877599e-05, 6.98034715e-05, 2.99157735e-05,\n",
       "       1.99438490e-05, 2.99158199e-05, 1.49578635e-05, 9.97193996e-06,\n",
       "       4.98596998e-06, 1.99438180e-05, 1.49579099e-05, 0.00000000e+00,\n",
       "       0.00000000e+00, 9.97193996e-06, 0.00000000e+00, 9.97193996e-06])"
      ]
     },
     "execution_count": 18,
     "metadata": {},
     "output_type": "execute_result"
    }
   ],
   "source": [
    "histsx"
   ]
  },
  {
   "cell_type": "code",
   "execution_count": 19,
   "metadata": {},
   "outputs": [
    {
     "data": {
      "text/plain": [
       "<matplotlib.patches.StepPatch at 0x7fef284053d0>"
      ]
     },
     "execution_count": 19,
     "metadata": {},
     "output_type": "execute_result"
    },
    {
     "data": {
      "image/png": "[encoded data removed]",
      "text/plain": [
       "<Figure size 640x480 with 1 Axes>"
      ]
     },
     "metadata": {},
     "output_type": "display_data"
    }
   ],
   "source": [
    "import matplotlib.pyplot as plt\n",
    "\n",
    "plt.stairs(hists[0], bins[0])"
   ]
  },
  {
   "cell_type": "code",
   "execution_count": 20,
   "metadata": {},
   "outputs": [
    {
     "data": {
      "text/plain": [
       "<matplotlib.patches.StepPatch at 0x7fef281ae510>"
      ]
     },
     "execution_count": 20,
     "metadata": {},
     "output_type": "execute_result"
    },
    {
     "data": {
      "image/png": "[encoded data removed]",
      "text/plain": [
       "<Figure size 640x480 with 1 Axes>"
      ]
     },
     "metadata": {},
     "output_type": "display_data"
    }
   ],
   "source": [
    "plt.stairs(hists[1], bins[1])"
   ]
  },
  {
   "cell_type": "code",
   "execution_count": 21,
   "metadata": {},
   "outputs": [
    {
     "data": {
      "image/png": "[encoded data removed]",
      "text/plain": [
       "<Figure size 640x480 with 1 Axes>"
      ]
     },
     "metadata": {},
     "output_type": "display_data"
    },
    {
     "data": {
      "image/png": "[encoded data removed]",
      "text/plain": [
       "<Figure size 640x480 with 1 Axes>"
      ]
     },
     "metadata": {},
     "output_type": "display_data"
    },
    {
     "data": {
      "image/png": "[encoded data removed]",
      "text/plain": [
       "<Figure size 640x480 with 1 Axes>"
      ]
     },
     "metadata": {},
     "output_type": "display_data"
    },
    {
     "data": {
      "image/png": "[encoded data removed]",
      "text/plain": [
       "<Figure size 640x480 with 1 Axes>"
      ]
     },
     "metadata": {},
     "output_type": "display_data"
    },
    {
     "data": {
      "image/png": "[encoded data removed]",
      "text/plain": [
       "<Figure size 640x480 with 1 Axes>"
      ]
     },
     "metadata": {},
     "output_type": "display_data"
    },
    {
     "data": {
      "image/png": "[encoded data removed]",
      "text/plain": [
       "<Figure size 640x480 with 1 Axes>"
      ]
     },
     "metadata": {},
     "output_type": "display_data"
    },
    {
     "data": {
      "image/png": "[encoded data removed]",
      "text/plain": [
       "<Figure size 640x480 with 1 Axes>"
      ]
     },
     "metadata": {},
     "output_type": "display_data"
    },
    {
     "data": {
      "image/png": "[encoded data removed]",
      "text/plain": [
       "<Figure size 640x480 with 1 Axes>"
      ]
     },
     "metadata": {},
     "output_type": "display_data"
    },
    {
     "data": {
      "image/png": "[encoded data removed]",
      "text/plain": [
       "<Figure size 640x480 with 1 Axes>"
      ]
     },
     "metadata": {},
     "output_type": "display_data"
    },
    {
     "data": {
      "image/png": "[encoded data removed]",
      "text/plain": [
       "<Figure size 640x480 with 1 Axes>"
      ]
     },
     "metadata": {},
     "output_type": "display_data"
    }
   ],
   "source": [
    "for i in range(10):\n",
    "    plt.stairs(hists[i], bins[i])\n",
    "    plt.show()\n"
   ]
  },
  {
   "cell_type": "code",
   "execution_count": 22,
   "metadata": {},
   "outputs": [
    {
     "data": {
      "text/plain": [
       "tensor(1.2503, dtype=torch.float64)"
      ]
     },
     "execution_count": 22,
     "metadata": {},
     "output_type": "execute_result"
    }
   ],
   "source": [
    "from distances import JD\n",
    "\n",
    "JD(torch.tensor(hists[0]), torch.tensor(hists[1]))\n"
   ]
  },
  {
   "cell_type": "code",
   "execution_count": 48,
   "metadata": {},
   "outputs": [
    {
     "name": "stdout",
     "output_type": "stream",
     "text": [
      "1535\r"
     ]
    }
   ],
   "source": []
  },
  {
   "cell_type": "code",
   "execution_count": 47,
   "metadata": {},
   "outputs": [
    {
     "ename": "KeyboardInterrupt",
     "evalue": "",
     "output_type": "error",
     "traceback": [
      "\u001b[0;31m---------------------------------------------------------------------------\u001b[0m",
      "\u001b[0;31mKeyboardInterrupt\u001b[0m                         Traceback (most recent call last)",
      "Cell \u001b[0;32mIn[47], line 1\u001b[0m\n\u001b[0;32m----> 1\u001b[0m ds \u001b[38;5;241m=\u001b[39m [(i, j, \u001b[43memd\u001b[49m\u001b[43m(\u001b[49m\u001b[43mcenters\u001b[49m\u001b[43m[\u001b[49m\u001b[43mi\u001b[49m\u001b[43m]\u001b[49m\u001b[43m,\u001b[49m\u001b[43m \u001b[49m\u001b[43mcenters\u001b[49m\u001b[43m[\u001b[49m\u001b[43mj\u001b[49m\u001b[43m]\u001b[49m\u001b[43m,\u001b[49m\u001b[43m \u001b[49m\u001b[43mhists\u001b[49m\u001b[43m[\u001b[49m\u001b[43mi\u001b[49m\u001b[43m]\u001b[49m\u001b[43m,\u001b[49m\u001b[43m \u001b[49m\u001b[43mhists\u001b[49m\u001b[43m[\u001b[49m\u001b[43mj\u001b[49m\u001b[43m]\u001b[49m\u001b[43m)\u001b[49m) \u001b[38;5;28;01mfor\u001b[39;00m i \u001b[38;5;129;01min\u001b[39;00m \u001b[38;5;28mrange\u001b[39m(batch\u001b[38;5;241m.\u001b[39mshape[\u001b[38;5;241m-\u001b[39m\u001b[38;5;241m1\u001b[39m]) \u001b[38;5;28;01mfor\u001b[39;00m j \u001b[38;5;129;01min\u001b[39;00m \u001b[38;5;28mrange\u001b[39m(batch\u001b[38;5;241m.\u001b[39mshape[\u001b[38;5;241m-\u001b[39m\u001b[38;5;241m1\u001b[39m]) \u001b[38;5;28;01mif\u001b[39;00m i \u001b[38;5;241m!=\u001b[39m j]\n",
      "File \u001b[0;32m/home/jroth/Low-Rank-Model-Compression/distances.py:181\u001b[0m, in \u001b[0;36memd\u001b[0;34m(x, y, weight_x, weight_y)\u001b[0m\n\u001b[1;32m    179\u001b[0m dists \u001b[38;5;241m=\u001b[39m pairwise_euclidean_dist(centroids_x, centroids_y) \u001b[38;5;66;03m# rows x, columns y\u001b[39;00m\n\u001b[1;32m    180\u001b[0m \u001b[38;5;66;03m# compute the solution to the transport problem\u001b[39;00m\n\u001b[0;32m--> 181\u001b[0m cost \u001b[38;5;241m=\u001b[39m \u001b[43mcompute_transport\u001b[49m\u001b[43m(\u001b[49m\u001b[43mweight_x\u001b[49m\u001b[43m,\u001b[49m\u001b[43m \u001b[49m\u001b[43mweight_y\u001b[49m\u001b[43m,\u001b[49m\u001b[43m \u001b[49m\u001b[43mdists\u001b[49m\u001b[43m)\u001b[49m\n\u001b[1;32m    182\u001b[0m \u001b[38;5;66;03m# return the distance\u001b[39;00m\n\u001b[1;32m    183\u001b[0m \u001b[38;5;28;01mreturn\u001b[39;00m cost\n",
      "File \u001b[0;32m/home/jroth/Low-Rank-Model-Compression/distances.py:124\u001b[0m, in \u001b[0;36mcompute_transport\u001b[0;34m(weights_x, weights_y, dists)\u001b[0m\n\u001b[1;32m    122\u001b[0m \u001b[38;5;66;03m# finally we need a tuple (0, None) to specify decison variable bounds\u001b[39;00m\n\u001b[1;32m    123\u001b[0m bounds \u001b[38;5;241m=\u001b[39m (\u001b[38;5;241m0\u001b[39m, \u001b[38;5;28;01mNone\u001b[39;00m)\n\u001b[0;32m--> 124\u001b[0m res \u001b[38;5;241m=\u001b[39m \u001b[43mlinprog\u001b[49m\u001b[43m(\u001b[49m\u001b[43mc\u001b[49m\u001b[43m,\u001b[49m\u001b[43m \u001b[49m\u001b[43mA_ub\u001b[49m\u001b[38;5;241;43m=\u001b[39;49m\u001b[43mA_ub\u001b[49m\u001b[43m,\u001b[49m\u001b[43m \u001b[49m\u001b[43mb_ub\u001b[49m\u001b[38;5;241;43m=\u001b[39;49m\u001b[43mb_ub\u001b[49m\u001b[43m,\u001b[49m\u001b[43m \u001b[49m\u001b[43mA_eq\u001b[49m\u001b[38;5;241;43m=\u001b[39;49m\u001b[43mA_eq\u001b[49m\u001b[43m,\u001b[49m\u001b[43m \u001b[49m\u001b[43mb_eq\u001b[49m\u001b[38;5;241;43m=\u001b[39;49m\u001b[43mb_eq\u001b[49m\u001b[43m,\u001b[49m\u001b[43m \u001b[49m\u001b[43mbounds\u001b[49m\u001b[38;5;241;43m=\u001b[39;49m\u001b[43mbounds\u001b[49m\u001b[43m)\u001b[49m\n\u001b[1;32m    126\u001b[0m \u001b[38;5;28;01mreturn\u001b[39;00m res[\u001b[38;5;124m'\u001b[39m\u001b[38;5;124mfun\u001b[39m\u001b[38;5;124m'\u001b[39m]\n",
      "File \u001b[0;32m/home/anaconda3/envs/torch/lib/python3.12/site-packages/scipy/optimize/_linprog.py:641\u001b[0m, in \u001b[0;36mlinprog\u001b[0;34m(c, A_ub, b_ub, A_eq, b_eq, bounds, method, callback, options, x0, integrality)\u001b[0m\n\u001b[1;32m    636\u001b[0m     \u001b[38;5;28;01mraise\u001b[39;00m \u001b[38;5;167;01mNotImplementedError\u001b[39;00m(\u001b[38;5;124m\"\u001b[39m\u001b[38;5;124mHiGHS solvers do not support the \u001b[39m\u001b[38;5;124m\"\u001b[39m\n\u001b[1;32m    637\u001b[0m                               \u001b[38;5;124m\"\u001b[39m\u001b[38;5;124mcallback interface.\u001b[39m\u001b[38;5;124m\"\u001b[39m)\n\u001b[1;32m    638\u001b[0m highs_solvers \u001b[38;5;241m=\u001b[39m {\u001b[38;5;124m'\u001b[39m\u001b[38;5;124mhighs-ipm\u001b[39m\u001b[38;5;124m'\u001b[39m: \u001b[38;5;124m'\u001b[39m\u001b[38;5;124mipm\u001b[39m\u001b[38;5;124m'\u001b[39m, \u001b[38;5;124m'\u001b[39m\u001b[38;5;124mhighs-ds\u001b[39m\u001b[38;5;124m'\u001b[39m: \u001b[38;5;124m'\u001b[39m\u001b[38;5;124msimplex\u001b[39m\u001b[38;5;124m'\u001b[39m,\n\u001b[1;32m    639\u001b[0m                  \u001b[38;5;124m'\u001b[39m\u001b[38;5;124mhighs\u001b[39m\u001b[38;5;124m'\u001b[39m: \u001b[38;5;28;01mNone\u001b[39;00m}\n\u001b[0;32m--> 641\u001b[0m sol \u001b[38;5;241m=\u001b[39m \u001b[43m_linprog_highs\u001b[49m\u001b[43m(\u001b[49m\u001b[43mlp\u001b[49m\u001b[43m,\u001b[49m\u001b[43m \u001b[49m\u001b[43msolver\u001b[49m\u001b[38;5;241;43m=\u001b[39;49m\u001b[43mhighs_solvers\u001b[49m\u001b[43m[\u001b[49m\u001b[43mmeth\u001b[49m\u001b[43m]\u001b[49m\u001b[43m,\u001b[49m\n\u001b[1;32m    642\u001b[0m \u001b[43m                     \u001b[49m\u001b[38;5;241;43m*\u001b[39;49m\u001b[38;5;241;43m*\u001b[39;49m\u001b[43msolver_options\u001b[49m\u001b[43m)\u001b[49m\n\u001b[1;32m    643\u001b[0m sol[\u001b[38;5;124m'\u001b[39m\u001b[38;5;124mstatus\u001b[39m\u001b[38;5;124m'\u001b[39m], sol[\u001b[38;5;124m'\u001b[39m\u001b[38;5;124mmessage\u001b[39m\u001b[38;5;124m'\u001b[39m] \u001b[38;5;241m=\u001b[39m (\n\u001b[1;32m    644\u001b[0m     _check_result(sol[\u001b[38;5;124m'\u001b[39m\u001b[38;5;124mx\u001b[39m\u001b[38;5;124m'\u001b[39m], sol[\u001b[38;5;124m'\u001b[39m\u001b[38;5;124mfun\u001b[39m\u001b[38;5;124m'\u001b[39m], sol[\u001b[38;5;124m'\u001b[39m\u001b[38;5;124mstatus\u001b[39m\u001b[38;5;124m'\u001b[39m], sol[\u001b[38;5;124m'\u001b[39m\u001b[38;5;124mslack\u001b[39m\u001b[38;5;124m'\u001b[39m],\n\u001b[1;32m    645\u001b[0m                   sol[\u001b[38;5;124m'\u001b[39m\u001b[38;5;124mcon\u001b[39m\u001b[38;5;124m'\u001b[39m], lp\u001b[38;5;241m.\u001b[39mbounds, tol, sol[\u001b[38;5;124m'\u001b[39m\u001b[38;5;124mmessage\u001b[39m\u001b[38;5;124m'\u001b[39m],\n\u001b[1;32m    646\u001b[0m                   integrality))\n\u001b[1;32m    647\u001b[0m sol[\u001b[38;5;124m'\u001b[39m\u001b[38;5;124msuccess\u001b[39m\u001b[38;5;124m'\u001b[39m] \u001b[38;5;241m=\u001b[39m sol[\u001b[38;5;124m'\u001b[39m\u001b[38;5;124mstatus\u001b[39m\u001b[38;5;124m'\u001b[39m] \u001b[38;5;241m==\u001b[39m \u001b[38;5;241m0\u001b[39m\n",
      "File \u001b[0;32m/home/anaconda3/envs/torch/lib/python3.12/site-packages/scipy/optimize/_linprog_highs.py:373\u001b[0m, in \u001b[0;36m_linprog_highs\u001b[0;34m(lp, solver, time_limit, presolve, disp, maxiter, dual_feasibility_tolerance, primal_feasibility_tolerance, ipm_optimality_tolerance, simplex_dual_edge_weight_strategy, mip_rel_gap, mip_max_nodes, **unknown_options)\u001b[0m\n\u001b[1;32m    370\u001b[0m \u001b[38;5;28;01melse\u001b[39;00m:\n\u001b[1;32m    371\u001b[0m     integrality \u001b[38;5;241m=\u001b[39m np\u001b[38;5;241m.\u001b[39marray(integrality)\n\u001b[0;32m--> 373\u001b[0m res \u001b[38;5;241m=\u001b[39m \u001b[43m_highs_wrapper\u001b[49m\u001b[43m(\u001b[49m\u001b[43mc\u001b[49m\u001b[43m,\u001b[49m\u001b[43m \u001b[49m\u001b[43mA\u001b[49m\u001b[38;5;241;43m.\u001b[39;49m\u001b[43mindptr\u001b[49m\u001b[43m,\u001b[49m\u001b[43m \u001b[49m\u001b[43mA\u001b[49m\u001b[38;5;241;43m.\u001b[39;49m\u001b[43mindices\u001b[49m\u001b[43m,\u001b[49m\u001b[43m \u001b[49m\u001b[43mA\u001b[49m\u001b[38;5;241;43m.\u001b[39;49m\u001b[43mdata\u001b[49m\u001b[43m,\u001b[49m\u001b[43m \u001b[49m\u001b[43mlhs\u001b[49m\u001b[43m,\u001b[49m\u001b[43m \u001b[49m\u001b[43mrhs\u001b[49m\u001b[43m,\u001b[49m\n\u001b[1;32m    374\u001b[0m \u001b[43m                     \u001b[49m\u001b[43mlb\u001b[49m\u001b[43m,\u001b[49m\u001b[43m \u001b[49m\u001b[43mub\u001b[49m\u001b[43m,\u001b[49m\u001b[43m \u001b[49m\u001b[43mintegrality\u001b[49m\u001b[38;5;241;43m.\u001b[39;49m\u001b[43mastype\u001b[49m\u001b[43m(\u001b[49m\u001b[43mnp\u001b[49m\u001b[38;5;241;43m.\u001b[39;49m\u001b[43muint8\u001b[49m\u001b[43m)\u001b[49m\u001b[43m,\u001b[49m\u001b[43m \u001b[49m\u001b[43moptions\u001b[49m\u001b[43m)\u001b[49m\n\u001b[1;32m    376\u001b[0m \u001b[38;5;66;03m# HiGHS represents constraints as lhs/rhs, so\u001b[39;00m\n\u001b[1;32m    377\u001b[0m \u001b[38;5;66;03m# Ax + s = b => Ax = b - s\u001b[39;00m\n\u001b[1;32m    378\u001b[0m \u001b[38;5;66;03m# and we need to split up s by A_ub and A_eq\u001b[39;00m\n\u001b[1;32m    379\u001b[0m \u001b[38;5;28;01mif\u001b[39;00m \u001b[38;5;124m'\u001b[39m\u001b[38;5;124mslack\u001b[39m\u001b[38;5;124m'\u001b[39m \u001b[38;5;129;01min\u001b[39;00m res:\n",
      "\u001b[0;31mKeyboardInterrupt\u001b[0m: "
     ]
    }
   ],
   "source": [
    "ds = [(i, j, emd(centers[i], centers[j], hists[i], hists[j])) for i in range(batch.shape[-1]) for j in range(batch.shape[-1]) if i != j]"
   ]
  },
  {
   "cell_type": "code",
   "execution_count": 49,
   "metadata": {},
   "outputs": [
    {
     "data": {
      "image/png": "[encoded data removed]",
      "text/plain": [
       "<Figure size 640x480 with 1 Axes>"
      ]
     },
     "metadata": {},
     "output_type": "display_data"
    },
    {
     "data": {
      "image/png": "[encoded data removed]",
      "text/plain": [
       "<Figure size 640x480 with 1 Axes>"
      ]
     },
     "metadata": {},
     "output_type": "display_data"
    }
   ],
   "source": [
    "i, j, d = max(ds, key=lambda k: k[-1])\n",
    "plt.xlim(-10, 10)\n",
    "\n",
    "plt.stairs(hists[i], bins[i])\n",
    "plt.show()\n",
    "plt.stairs(hists[j], bins[j])\n",
    "plt.show()\n"
   ]
  },
  {
   "cell_type": "code",
   "execution_count": 50,
   "metadata": {},
   "outputs": [
    {
     "data": {
      "image/png": "[encoded data removed]",
      "text/plain": [
       "<Figure size 640x480 with 1 Axes>"
      ]
     },
     "metadata": {},
     "output_type": "display_data"
    },
    {
     "data": {
      "image/png": "[encoded data removed]",
      "text/plain": [
       "<Figure size 640x480 with 1 Axes>"
      ]
     },
     "metadata": {},
     "output_type": "display_data"
    }
   ],
   "source": [
    "i, j, d = min(ds, key=lambda k: k[-1])\n",
    "plt.stairs(hists[i], bins[i])\n",
    "plt.show()\n",
    "\n",
    "plt.stairs(hists[j], bins[j])\n",
    "plt.show()"
   ]
  },
  {
   "cell_type": "code",
   "execution_count": null,
   "metadata": {},
   "outputs": [],
   "source": []
  }
 ],
 "metadata": {
  "kernelspec": {
   "display_name": "torch",
   "language": "python",
   "name": "python3"
  },
  "language_info": {
   "codemirror_mode": {
    "name": "ipython",
    "version": 3
   },
   "file_extension": ".py",
   "mimetype": "text/x-python",
   "name": "python",
   "nbconvert_exporter": "python",
   "pygments_lexer": "ipython3",
   "version": "3.12.1"
  },
  "orig_nbformat": 4
 },
 "nbformat": 4,
 "nbformat_minor": 2
}
